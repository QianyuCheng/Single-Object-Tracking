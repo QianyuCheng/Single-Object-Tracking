{
 "cells": [
  {
   "cell_type": "code",
   "execution_count": 1,
   "metadata": {},
   "outputs": [],
   "source": [
    "from PIL import Image\n",
    "from skimage.feature import hog\n",
    "import matplotlib.pyplot as plt\n",
    "import numpy as np\n",
    "import math\n",
    "import sys\n",
    "import cv2\n",
    "import os\n",
    "import time\n",
    "import pandas as pd\n",
    "from src.utils import Region, get_loss\n",
    "from src.kcf.utils import *\n",
    "from src.kcf.kcf import KCFtracker"
   ]
  },
  {
   "cell_type": "code",
   "execution_count": 2,
   "metadata": {},
   "outputs": [],
   "source": [
    "import src.kcf.kcf as kcf\n",
    "import src.kcf.utils as utils"
   ]
  },
  {
   "cell_type": "code",
   "execution_count": 3,
   "metadata": {},
   "outputs": [
    {
     "data": {
      "text/plain": [
       "<module 'src.kcf.kcf' from 'C:\\\\Users\\\\xsyso\\\\OneDrive\\\\DataScience\\\\DSGA300108\\\\project\\\\Single Object Tracking\\\\src\\\\kcf\\\\kcf.py'>"
      ]
     },
     "execution_count": 3,
     "metadata": {},
     "output_type": "execute_result"
    }
   ],
   "source": [
    "import imp\n",
    "imp.reload(kcf)"
   ]
  },
  {
   "cell_type": "code",
   "execution_count": 2,
   "metadata": {},
   "outputs": [],
   "source": [
    "def kcf_object_tracking(all_imgs, regions):\n",
    "    kcf = KCFtracker(image=all_imgs[0], region=regions[0], cell_size=4, padding=1.5, feature='hog')\n",
    "    losses = []\n",
    "    for i, img in enumerate(all_imgs[1:]):\n",
    "        \n",
    "        tracked_region = kcf.track(img)\n",
    "        loss = get_loss(regions[i+1], tracked_region)\n",
    "        losses.append(loss)\n",
    "        \n",
    "    return losses"
   ]
  },
  {
   "cell_type": "code",
   "execution_count": 3,
   "metadata": {},
   "outputs": [
    {
     "data": {
      "text/plain": [
       "(['Alladin', 'Aquarium1', 'Aquarium2', 'Badminton1', 'Badminton2'], 50)"
      ]
     },
     "execution_count": 3,
     "metadata": {},
     "output_type": "execute_result"
    }
   ],
   "source": [
    "data_names = [tmp for tmp in os.listdir('./data/TinyTLP/') if not tmp.endswith('zip')]\n",
    "data_names[:5], len(data_names)"
   ]
  },
  {
   "cell_type": "code",
   "execution_count": 6,
   "metadata": {},
   "outputs": [],
   "source": [
    "video_name = data_names[8]\n",
    "data_path = './data/TinyTLP/{}'.format(video_name)\n",
    "ground_truth = pd.read_csv(data_path+'/groundtruth_rect.txt',header=None).values[:, 1:-1]\n",
    "ground_truth = [Region(list(rect), data_mode='tlp', region_mode='square') for rect in ground_truth]"
   ]
  },
  {
   "cell_type": "code",
   "execution_count": 7,
   "metadata": {},
   "outputs": [
    {
     "data": {
      "text/plain": [
       "'./data/TinyTLP/Billiards1'"
      ]
     },
     "execution_count": 7,
     "metadata": {},
     "output_type": "execute_result"
    }
   ],
   "source": [
    "data_path"
   ]
  },
  {
   "cell_type": "code",
   "execution_count": 8,
   "metadata": {},
   "outputs": [],
   "source": [
    "file_path_image = '{}/img'.format(data_path)\n",
    "all_imgs_path = []\n",
    "for file_name in os.listdir(file_path_image):\n",
    "    all_imgs_path.append(os.path.join(file_path_image, file_name))\n",
    "all_imgs_path = sorted(all_imgs_path)[:10]\n",
    "all_imgs = [np.array(Image.open(img_path))/255 for img_path in all_imgs_path]"
   ]
  },
  {
   "cell_type": "code",
   "execution_count": 9,
   "metadata": {},
   "outputs": [
    {
     "name": "stdout",
     "output_type": "stream",
     "text": [
      "0 1.0\n",
      "1 1.0\n",
      "2 1.0\n",
      "3 1.0\n",
      "4 1.0\n",
      "5 1.0\n",
      "6 1.0\n",
      "7 1.0\n",
      "8 1.0\n"
     ]
    },
    {
     "data": {
      "text/plain": [
       "[1.0, 1.0, 1.0, 1.0, 1.0, 1.0, 1.0, 1.0, 1.0]"
      ]
     },
     "execution_count": 9,
     "metadata": {},
     "output_type": "execute_result"
    }
   ],
   "source": [
    "kcf_object_tracking(all_imgs, ground_truth)"
   ]
  },
  {
   "cell_type": "code",
   "execution_count": 10,
   "metadata": {},
   "outputs": [],
   "source": [
    "imp.reload(utils)\n",
    "xxx = utils.get_subwindow(all_imgs[0], [287.5, 718.5], [67, 67], 4, 'hog')"
   ]
  },
  {
   "cell_type": "code",
   "execution_count": 11,
   "metadata": {},
   "outputs": [],
   "source": [
    "from skimage.feature import hog"
   ]
  },
  {
   "cell_type": "code",
   "execution_count": 12,
   "metadata": {},
   "outputs": [
    {
     "data": {
      "text/plain": [
       "(10, 10)"
      ]
     },
     "execution_count": 12,
     "metadata": {},
     "output_type": "execute_result"
    }
   ],
   "source": [
    "hog(all_imgs[0][100:110, 100:110, 0], pixels_per_cell=(4, 4), transform_sqrt=True, \n",
    "                 visualise=True, block_norm='L2-Hys', feature_vector=False)[1].squeeze().shape"
   ]
  },
  {
   "cell_type": "code",
   "execution_count": 13,
   "metadata": {},
   "outputs": [
    {
     "data": {
      "text/plain": [
       "<HOGDescriptor 000001E3452B9F70>"
      ]
     },
     "execution_count": 13,
     "metadata": {},
     "output_type": "execute_result"
    }
   ],
   "source": [
    "cv2.HOGDescriptor()"
   ]
  },
  {
   "cell_type": "code",
   "execution_count": 42,
   "metadata": {},
   "outputs": [
    {
     "data": {
      "text/plain": [
       "21.0"
      ]
     },
     "execution_count": 42,
     "metadata": {},
     "output_type": "execute_result"
    }
   ],
   "source": [
    "15876 / 4 / 9 / 21"
   ]
  },
  {
   "cell_type": "code",
   "execution_count": 31,
   "metadata": {},
   "outputs": [],
   "source": [
    "# regions = ground_truth\n",
    "# kcf = kcf.KCFtracker(image=all_imgs[0], region=regions[0], cell_size=4, padding=1.5, feature='hog')\n",
    "# losses = []\n",
    "# for i, img in enumerate(all_imgs[1:]):\n",
    "#     tracked_region = kcf.track(img)\n",
    "#     loss = get_loss(regions[i+1], tracked_region)\n",
    "#     losses.append(loss)"
   ]
  },
  {
   "cell_type": "code",
   "execution_count": 5,
   "metadata": {},
   "outputs": [
    {
     "name": "stdout",
     "output_type": "stream",
     "text": [
      "Alladin 52.27820553811296\n",
      "Aquarium1 99.02169699844008\n",
      "Aquarium2 674.613739469858\n",
      "Badminton1 294.1790511600719\n",
      "Badminton2 105.02677732357922\n",
      "Basketball 131.3365243056705\n",
      "Bharatanatyam 366.3704035740947\n",
      "Bike 74.58484187584662\n",
      "Billiards1 81.7212341834738\n",
      "Billiards2 216.4143432479317\n",
      "Boat 42.90623425539693\n",
      "Boxing1 232.6361568257885\n",
      "Boxing2 167.0853428151791\n",
      "Boxing3 232.83617500351627\n",
      "BreakfastClub 29.030713647628822\n",
      "CarChase1 216.25501471410257\n",
      "CarChase2 20.509802332499103\n",
      "CarChase3 55.92987044234805\n",
      "Dashcam 158.94472860891838\n",
      "DriftCar1 395.80966089768003\n",
      "DriftCar2 347.3765880262564\n",
      "Drone1 114.80878053039741\n",
      "Drone2 19.1870238508698\n",
      "Drone3 81.90940579862168\n",
      "Elephants 588.1882674446701\n",
      "Helicopter 235.5714158900697\n",
      "Hideaway 116.60570676805281\n",
      "IceSkating 77.19503998103062\n",
      "ISS 358.3377472528894\n",
      "Jet1 163.70737935269818\n",
      "Jet2 34.084290794119646\n",
      "Jet3 47.895241871442344\n",
      "Jet4 128.6053900214256\n",
      "Jet5 169.3663868219733\n",
      "KinBall1 169.23549689191546\n",
      "KinBall2 12.180506016592139\n",
      "KinBall3 286.7328274248111\n",
      "Lion 141.27208742764964\n",
      "Mohiniyattam 269.87578147851616\n",
      "MotorcycleChase 59.35384870347716\n",
      "Parakeet 121.80394436073811\n",
      "PolarBear1 212.22519860445865\n",
      "PolarBear2 422.62193017979934\n",
      "PolarBear3 287.072102672906\n",
      "Puppies1 124.94897973759558\n",
      "Puppies2 534.0843402592445\n",
      "Rope 270.46662450211954\n",
      "Sam 240.5699096428652\n",
      "Violinist 41.71201092797523\n",
      "ZebraFish 230.59388628048322\n"
     ]
    }
   ],
   "source": [
    "losses_all = []\n",
    "with open('kcf.log', 'w') as f:\n",
    "    for i, video_name in enumerate(data_names):\n",
    "        data_path = './data/TinyTLP/{}'.format(video_name)\n",
    "        ground_truth = pd.read_csv(data_path+'/groundtruth_rect.txt',header=None).values[:, 1:-1]\n",
    "        ground_truth = [Region(list(rect), data_mode='tlp', region_mode='square') for rect in ground_truth]\n",
    "        \n",
    "        file_path_image = '{}/img'.format(data_path)\n",
    "        all_imgs_path = []\n",
    "        for file_name in os.listdir(file_path_image):\n",
    "            all_imgs_path.append(os.path.join(file_path_image, file_name))\n",
    "            \n",
    "        all_imgs_path = sorted(all_imgs_path)\n",
    "        all_imgs = [np.array(Image.open(img_path))/255 for img_path in all_imgs_path]\n",
    "\n",
    "        losses = kcf_object_tracking(all_imgs, ground_truth)\n",
    "\n",
    "        losses_all.append(losses)\n",
    "        print(video_name, np.mean(losses))\n",
    "        to_log = [video_name] + [str(np.mean(losses))] + [str(loss) for loss in losses]\n",
    "        f.write('\\t'.join(to_log) + '\\n')"
   ]
  },
  {
   "cell_type": "code",
   "execution_count": null,
   "metadata": {
    "collapsed": true
   },
   "outputs": [],
   "source": []
  }
 ],
 "metadata": {
  "kernelspec": {
   "display_name": "Python 3",
   "language": "python",
   "name": "python3"
  },
  "language_info": {
   "codemirror_mode": {
    "name": "ipython",
    "version": 3
   },
   "file_extension": ".py",
   "mimetype": "text/x-python",
   "name": "python",
   "nbconvert_exporter": "python",
   "pygments_lexer": "ipython3",
   "version": "3.6.4"
  }
 },
 "nbformat": 4,
 "nbformat_minor": 2
}

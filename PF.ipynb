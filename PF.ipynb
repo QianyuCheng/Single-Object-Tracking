{
 "cells": [
  {
   "cell_type": "code",
   "execution_count": 1,
   "metadata": {
    "collapsed": true
   },
   "outputs": [],
   "source": [
    "from PIL import Image\n",
    "import pandas as pd\n",
    "import cv2\n",
    "import sys\n",
    "from src.pf.particle_filter import ParticleFilter\n",
    "from src.pf.utils import *\n",
    "from src.utils import Region, get_loss\n",
    "import numpy as np\n",
    "import matplotlib.pyplot as plt\n",
    "import time\n",
    "import os\n",
    "import warnings\n",
    "warnings.filterwarnings(\"ignore\")"
   ]
  },
  {
   "cell_type": "code",
   "execution_count": 2,
   "metadata": {},
   "outputs": [
    {
     "data": {
      "text/plain": [
       "(['Alladin', 'Aquarium1', 'Aquarium2', 'Badminton1', 'Badminton2'], 50)"
      ]
     },
     "execution_count": 2,
     "metadata": {},
     "output_type": "execute_result"
    }
   ],
   "source": [
    "data_names = [tmp for tmp in os.listdir('./data/TinyTLP/') if not tmp.endswith('zip')]\n",
    "data_names[:5], len(data_names)"
   ]
  },
  {
   "cell_type": "code",
   "execution_count": 5,
   "metadata": {
    "collapsed": true
   },
   "outputs": [],
   "source": [
    "def pf_object_tracking(pv, ground_truth):\n",
    "    frame = pv[0]\n",
    "    frame = cv2.cvtColor(frame, cv2.COLOR_BGR2HSV)\n",
    "\n",
    "    first_rect = ground_truth[0]\n",
    "    y, x, box_height, box_width = first_rect.get_label()\n",
    "    #writer = cv2.VideoWriter(\"pf_{}.avi\".format(video_name), cv2.VideoWriter_fourcc(*\"MJPG\"), 24, (w, h))\n",
    "    \n",
    "    pf = ParticleFilter(x,y,frame,n_particles=1000,square_size=100,\n",
    "                            dt=0.20,window_size=(h,w))\n",
    "    alpha = 0.5\n",
    "    times = []\n",
    "    losses = []\n",
    "    for i, frame in enumerate(pv[1:]):\n",
    "        orig = np.array(frame)\n",
    "        img = frame.copy()\n",
    "        norm_factor = 255.0/np.sum(frame,axis=2)[:,:,np.newaxis]\n",
    "        frame = frame*norm_factor\n",
    "        frame = cv2.convertScaleAbs(frame)\n",
    "        frame = cv2.blur(frame,(5,5))\n",
    "        frame = cv2.cvtColor(frame, cv2.COLOR_BGR2HSV)\n",
    "        time1 = time.time()\n",
    "        x,y,sq_size,distrib,distrib_control = pf.next_state(frame)\n",
    "        \n",
    "        loss = get_loss(ground_truth[i+1], (x, y))\n",
    "        losses.append(loss)\n",
    "        time2 = time.time()\n",
    "        times.append(time2-time1)\n",
    "        p1 = (int(y-sq_size),int(x-sq_size))\n",
    "        p2 = (int(y+sq_size),int(x+sq_size))\n",
    "#         # before resampling\n",
    "#         for (x2,y2,scale2) in distrib_control:\n",
    "#             x2 = int(x2)\n",
    "#             y2 = int(y2)\n",
    "#             cv2.circle(img, (y2,x2), 1, (255,0,0),thickness=10) \n",
    "#         # after resampling\n",
    "#         for (x1,y1,scale1) in distrib:\n",
    "#             x1 = int(x1)\n",
    "#             y1 = int(y1)\n",
    "#             cv2.circle(img, (y1,x1), 1, (0,0,255),thickness=10) \n",
    "\n",
    "#         cv2.rectangle(img,p1,p2,(0,0,255),thickness=5)\n",
    "\n",
    "#         cv2.addWeighted(orig, alpha, img, 1 - alpha,0, img)   \n",
    "#         create_legend(img,(40,40),(40,20))\n",
    "#         #cv2.imshow('frame',img[:,:,::-1])\n",
    "#         tmp = (img).astype(np.uint8)\n",
    "#         #writer.write(tmp[:, :, ::-1])\n",
    "        \n",
    "        #break\n",
    "#         if cv2.waitKey(1) & 0xFF == ord('q'):\n",
    "#             break\n",
    "            \n",
    "#     cv2.destroyAllWindows()\n",
    "    #writer.release()\n",
    "    return losses"
   ]
  },
  {
   "cell_type": "code",
   "execution_count": 7,
   "metadata": {},
   "outputs": [
    {
     "name": "stdout",
     "output_type": "stream",
     "text": [
      "Alladin 305.28681079947137\n",
      "Aquarium1 150.24857710803278\n",
      "Aquarium2 555.0139411235272\n",
      "Badminton1 360.6470712564711\n",
      "Badminton2 128.8198530979043\n",
      "Basketball 155.2000055857193\n",
      "Bharatanatyam 73.68353813007273\n",
      "Bike 161.09558208109001\n",
      "Billiards1 124.24064248249842\n",
      "Billiards2 187.91893120261915\n",
      "Boat 288.2333967248351\n",
      "Boxing1 291.95182946830846\n",
      "Boxing2 353.4870839204423\n",
      "Boxing3 271.21499944732443\n",
      "BreakfastClub 94.11222441587607\n",
      "CarChase1 435.15632126297487\n",
      "CarChase2 80.91570023036535\n",
      "CarChase3 305.9592919509691\n",
      "Dashcam 40.88345399756138\n",
      "DriftCar1 85.61800204785102\n",
      "DriftCar2 278.4614846506096\n",
      "Drone1 91.68849416365506\n",
      "Drone2 523.3266224515995\n",
      "Drone3 316.62671739346246\n",
      "Elephants 572.9405278331656\n",
      "Helicopter 263.42205935873176\n",
      "Hideaway 232.6290523602258\n",
      "IceSkating 110.55600113063629\n",
      "ISS 201.43858813955612\n",
      "Jet1 212.44592641743324\n",
      "Jet2 106.05715881008832\n",
      "Jet3 215.22869616514706\n",
      "Jet4 507.0893898804486\n",
      "Jet5 175.81538396098827\n",
      "KinBall1 93.70272974452074\n",
      "KinBall2 103.59518219707441\n",
      "KinBall3 433.9942233747971\n",
      "Lion 59.76961942796184\n",
      "Mohiniyattam 58.311770074451104\n",
      "MotorcycleChase 339.80874882861826\n",
      "Parakeet 180.14679568754653\n",
      "PolarBear1 248.56579294984573\n",
      "PolarBear2 479.9314842173424\n",
      "PolarBear3 433.13770941945074\n",
      "Puppies1 297.02179854983547\n",
      "Puppies2 182.7731074748305\n",
      "Rope 216.8982867143741\n",
      "Sam 188.04522461183217\n",
      "Violinist 205.48249544055557\n",
      "ZebraFish 128.3788645858295\n"
     ]
    }
   ],
   "source": [
    "losses_all = []\n",
    "with open('pf.log', 'w') as f:\n",
    "    for i, video_name in enumerate(data_names):\n",
    "        data_path = './data/TinyTLP/{}'.format(video_name)\n",
    "        ground_truth = pd.read_csv(data_path+'/groundtruth_rect.txt',header=None).values[:, 1:-1]\n",
    "        ground_truth = [Region(list(rect), data_mode='tlp', region_mode='raw') for rect in ground_truth]\n",
    "        w, h, pv = get_pixel_data(data_path+'/img/', num_samples=-1, silence=True)\n",
    "        losses = pf_object_tracking(pv, ground_truth)\n",
    "        losses_all.append(losses)\n",
    "        print(video_name, np.mean(losses))\n",
    "        to_log = [video_name] + [str(np.mean(losses))] + [str(loss) for loss in losses]\n",
    "        f.write('\\t'.join(to_log) + '\\n')"
   ]
  },
  {
   "cell_type": "code",
   "execution_count": null,
   "metadata": {
    "collapsed": true
   },
   "outputs": [],
   "source": [
    "np.mean(losses)"
   ]
  },
  {
   "cell_type": "code",
   "execution_count": null,
   "metadata": {
    "collapsed": true
   },
   "outputs": [],
   "source": [
    "plt.plot(losses)\n",
    "plt.show()"
   ]
  },
  {
   "cell_type": "code",
   "execution_count": null,
   "metadata": {
    "collapsed": true
   },
   "outputs": [],
   "source": []
  }
 ],
 "metadata": {
  "kernelspec": {
   "display_name": "Python 3",
   "language": "python",
   "name": "python3"
  },
  "language_info": {
   "codemirror_mode": {
    "name": "ipython",
    "version": 3
   },
   "file_extension": ".py",
   "mimetype": "text/x-python",
   "name": "python",
   "nbconvert_exporter": "python",
   "pygments_lexer": "ipython3",
   "version": "3.6.3"
  }
 },
 "nbformat": 4,
 "nbformat_minor": 2
}

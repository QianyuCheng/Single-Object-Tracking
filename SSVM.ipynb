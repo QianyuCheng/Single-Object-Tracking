{
 "cells": [
  {
   "cell_type": "code",
   "execution_count": 1,
   "metadata": {
    "collapsed": true
   },
   "outputs": [],
   "source": [
    "from src.ssvm import optimizer, sampler, tracker, pattern\n",
    "import numpy as np\n",
    "import time, pickle, sys, os\n",
    "from src.ssvm.utils import load_dataset\n",
    "from src.utils import Region, get_loss\n",
    "import warnings\n",
    "warnings.filterwarnings(\"ignore\")"
   ]
  },
  {
   "cell_type": "code",
   "execution_count": 2,
   "metadata": {},
   "outputs": [
    {
     "data": {
      "text/plain": [
       "(['Alladin', 'Aquarium1', 'Aquarium2', 'Badminton1', 'Badminton2'], 50)"
      ]
     },
     "execution_count": 2,
     "metadata": {},
     "output_type": "execute_result"
    }
   ],
   "source": [
    "data_names = [tmp for tmp in os.listdir('./data/TinyTLP/') if not tmp.endswith('zip')]\n",
    "data_names[:5], len(data_names)"
   ]
  },
  {
   "cell_type": "code",
   "execution_count": 3,
   "metadata": {
    "collapsed": true
   },
   "outputs": [],
   "source": [
    "data_path = './data/TinyTLP/{}'.format(data_names[0])"
   ]
  },
  {
   "cell_type": "code",
   "execution_count": 15,
   "metadata": {
    "collapsed": true
   },
   "outputs": [],
   "source": [
    "frames, truths = load_dataset(data_path, mode='TLP')\n",
    "#regions = [Region(list(truth), data_mode='tlp', region_mode='raw') for truth in truths]"
   ]
  },
  {
   "cell_type": "code",
   "execution_count": 14,
   "metadata": {},
   "outputs": [
    {
     "data": {
      "text/plain": [
       "(array([520, 401,  94, 279]), (401, 427, 279, 279))"
      ]
     },
     "execution_count": 14,
     "metadata": {},
     "output_type": "execute_result"
    }
   ],
   "source": [
    "truths[0], regions[0].get_label()"
   ]
  },
  {
   "cell_type": "code",
   "execution_count": 11,
   "metadata": {
    "collapsed": true
   },
   "outputs": [],
   "source": [
    "# Initialize tracker\n",
    "config = {\n",
    "    \"rescale\": 0.2,\n",
    "    \"search\": 1.3,\n",
    "    \"step\": 2,\n",
    "    \"P\": 5, \"Q\": 10,\n",
    "    \"sv_max\": 100,\n",
    "}"
   ]
  },
  {
   "cell_type": "code",
   "execution_count": 7,
   "metadata": {
    "collapsed": true
   },
   "outputs": [],
   "source": [
    "# Initialize tracker\n",
    "config = {\n",
    "    \"rescale\": 0.2,\n",
    "    #\"search\": 1.3,\n",
    "    \"search\": 0.1,\n",
    "    \"step\": 2,\n",
    "    \"P\": 5, \"Q\": 10,\n",
    "    \"sv_max\": 20,\n",
    "}"
   ]
  },
  {
   "cell_type": "code",
   "execution_count": 4,
   "metadata": {
    "collapsed": true
   },
   "outputs": [],
   "source": [
    "def ssvm_object_tracking(frames, truths):\n",
    "    target = np.array(truths[0])\n",
    "    ssvm = tracker.Tracker(frames, target, config)\n",
    "    losses = []\n",
    "    for (frame, output), truth in zip(ssvm.track(), truths):\n",
    "        loss = get_loss(Region(output, data_mode='tlp', region_mode='raw'), Region(truth, data_mode='tlp', region_mode='raw'))\n",
    "        losses.append(loss)\n",
    "    return losses"
   ]
  },
  {
   "cell_type": "code",
   "execution_count": 5,
   "metadata": {},
   "outputs": [
    {
     "data": {
      "text/plain": [
       "'Jet5'"
      ]
     },
     "execution_count": 5,
     "metadata": {},
     "output_type": "execute_result"
    }
   ],
   "source": [
    "data_names[33]"
   ]
  },
  {
   "cell_type": "code",
   "execution_count": 16,
   "metadata": {},
   "outputs": [
    {
     "name": "stdout",
     "output_type": "stream",
     "text": [
      "KinBall1 16.893661874456967\n",
      "KinBall2 6.374371492238126\n",
      "KinBall3 70.26862037240099\n",
      "Lion 143.32968873918287\n",
      "Mohiniyattam 225.12214613939776\n",
      "MotorcycleChase 43.72832085382151\n",
      "Parakeet 149.84465958727802\n",
      "PolarBear1 76.28920627911646\n",
      "PolarBear2 335.04106394361673\n",
      "PolarBear3 185.0239052588594\n",
      "Puppies1 22.72198415850151\n",
      "Puppies2 198.13765134045957\n",
      "Rope 13.516999031026838\n",
      "Sam 260.59710323479743\n",
      "Violinist 33.50760024387366\n",
      "ZebraFish 157.41174424698985\n"
     ]
    }
   ],
   "source": [
    "losses_all = []\n",
    "with open('ssvm.log', 'a') as f:\n",
    "    for i, video_name in enumerate(data_names):\n",
    "        data_path = './data/TinyTLP/{}'.format(video_name)\n",
    "        frames, truths = load_dataset(data_path, mode='TLP')\n",
    "        losses = ssvm_object_tracking(frames, truths)\n",
    "        losses_all.append(losses)\n",
    "        print(video_name, np.mean(losses))\n",
    "        to_log = [video_name] + [str(np.mean(losses))] + [str(loss) for loss in losses]\n",
    "        f.write('\\t'.join(to_log) + '\\n')"
   ]
  },
  {
   "cell_type": "code",
   "execution_count": 41,
   "metadata": {},
   "outputs": [
    {
     "data": {
      "text/plain": [
       "array([ 123,  261, 1047,  334])"
      ]
     },
     "execution_count": 41,
     "metadata": {},
     "output_type": "execute_result"
    }
   ],
   "source": [
    "truths[0]"
   ]
  },
  {
   "cell_type": "code",
   "execution_count": null,
   "metadata": {
    "collapsed": true
   },
   "outputs": [],
   "source": []
  }
 ],
 "metadata": {
  "kernelspec": {
   "display_name": "Python 3",
   "language": "python",
   "name": "python3"
  },
  "language_info": {
   "codemirror_mode": {
    "name": "ipython",
    "version": 3
   },
   "file_extension": ".py",
   "mimetype": "text/x-python",
   "name": "python",
   "nbconvert_exporter": "python",
   "pygments_lexer": "ipython3",
   "version": "3.6.3"
  }
 },
 "nbformat": 4,
 "nbformat_minor": 2
}
